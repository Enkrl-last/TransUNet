{
 "cells": [
  {
   "cell_type": "code",
   "execution_count": 63,
   "id": "96411b3f",
   "metadata": {},
   "outputs": [],
   "source": [
    "import numpy as np\n",
    "import nibabel as nib\n",
    "import h5py\n",
    "import os\n",
    "\n",
    "cwd = '/home/andrei/git/TransUNet/data/dataset_preproc' # Path to raw dataset, \n",
    "                                                        # should contain \"train\" and \"labels\" folders\n",
    "data_folder = '/home/andrei/git/TransUNet/data'\n",
    "\n",
    "subfolders = os.listdir(cwd + '/' + 'train') \n",
    "\n",
    "for subfolder in subfolders:\n",
    "    righttext = subfolder[3:] # get the part \"xxxx-xxxx.nii.gz\"\n",
    "    subject = righttext[:4]\n",
    "    \n",
    "    img = nib.load(cwd + '/' + 'train' + '/' + subfolder)\n",
    "    label = nib.load(cwd + '/' + 'labels' + '/' + subfolder[:-7] + '_seg.nii.gz')\n",
    "    \n",
    "    #Convert them to numpy format, \n",
    "    data = img.get_fdata()\n",
    "    label_data = label.get_fdata()\n",
    "\n",
    "    #clip the images within [-125, 275], \n",
    "    data_clipped = np.clip(data, -125, 275)\n",
    "    \n",
    "    #normalize each 3D image to [0, 1], and \n",
    "    data_normalised = (data_clipped - (-125)) / (275 - (-125))\n",
    "    \n",
    "    #extract 2D slices from 3D volume for training cases while \n",
    "    # e.g. slice 000\n",
    "    for i in range(data_normalised.shape[2]):\n",
    "        formattedi = \"{:03d}\".format(i)\n",
    "        slice000 = data_normalised[:,:,i]\n",
    "        label_slice000 = label_data[:,:,i]\n",
    "        np.savez(data_folder + \"/Synapse/train_npz/case\"+subject+\"_slice\"+formattedi+\".npz\", \n",
    "              image=slice000,\n",
    "              label=label_slice000)\n",
    "\n",
    "    fn = data_folder + '/Synapse/test_vol_h5/case'+subject+'.npy.h5'\n",
    "    f = h5py.File(fn, 'w')\n",
    "    dset = f.create_dataset(\"image\", data=data_normalised)\n",
    "    dset = f.create_dataset(\"label\", data=label_data)\n",
    "    f.close()        "
   ]
  },
  {
   "cell_type": "code",
   "execution_count": 64,
   "id": "b884c8bc",
   "metadata": {},
   "outputs": [
    {
     "name": "stdout",
     "output_type": "stream",
     "text": [
      "Defaulting to user installation because normal site-packages is not writeable\n",
      "Collecting googledrivedownloader\n",
      "  Downloading googledrivedownloader-0.4-py2.py3-none-any.whl (3.9 kB)\n",
      "Installing collected packages: googledrivedownloader\n",
      "Successfully installed googledrivedownloader-0.4\n",
      "\u001b[33mWARNING: You are using pip version 21.2.4; however, version 21.3 is available.\n",
      "You should consider upgrading via the '/usr/bin/python3 -m pip install --upgrade pip' command.\u001b[0m\n",
      "Note: you may need to restart the kernel to use updated packages.\n"
     ]
    }
   ],
   "source": [
    "pip install googledrivedownloader"
   ]
  },
  {
   "cell_type": "code",
   "execution_count": 65,
   "id": "adbd5c46",
   "metadata": {},
   "outputs": [
    {
     "data": {
      "text/plain": [
       "'/home/andrei/git/TransUNet'"
      ]
     },
     "execution_count": 65,
     "metadata": {},
     "output_type": "execute_result"
    }
   ],
   "source": [
    "pwd"
   ]
  },
  {
   "cell_type": "code",
   "execution_count": 67,
   "id": "5b1081ec",
   "metadata": {},
   "outputs": [
    {
     "name": "stdout",
     "output_type": "stream",
     "text": [
      "Downloading 1ACJEoTp-uqfFJ73qS3eUObQh52nGuzCd into ./data/example_data/project_TransUNet.zip... Done.\n",
      "Unzipping..."
     ]
    },
    {
     "name": "stderr",
     "output_type": "stream",
     "text": [
      "/home/andrei/.local/lib/python3.6/site-packages/google_drive_downloader/google_drive_downloader.py:78: UserWarning: Ignoring `unzip` since \"1ACJEoTp-uqfFJ73qS3eUObQh52nGuzCd\" does not look like a valid zip file\n",
      "  warnings.warn('Ignoring `unzip` since \"{}\" does not look like a valid zip file'.format(file_id))\n"
     ]
    }
   ],
   "source": [
    "from google_drive_downloader import GoogleDriveDownloader as gdd\n",
    "\n",
    "gdd.download_file_from_google_drive(file_id='1ACJEoTp-uqfFJ73qS3eUObQh52nGuzCd',\n",
    "                                    dest_path='./data/example_data/project_TransUNet.zip',\n",
    "                                    unzip=True)"
   ]
  },
  {
   "cell_type": "code",
   "execution_count": null,
   "id": "5a75580e",
   "metadata": {},
   "outputs": [],
   "source": []
  }
 ],
 "metadata": {
  "kernelspec": {
   "display_name": "Python 3",
   "language": "python",
   "name": "python3"
  },
  "language_info": {
   "codemirror_mode": {
    "name": "ipython",
    "version": 3
   },
   "file_extension": ".py",
   "mimetype": "text/x-python",
   "name": "python",
   "nbconvert_exporter": "python",
   "pygments_lexer": "ipython3",
   "version": "3.6.9"
  }
 },
 "nbformat": 4,
 "nbformat_minor": 5
}
